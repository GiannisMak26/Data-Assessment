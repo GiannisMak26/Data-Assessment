{
 "cells": [
  {
   "cell_type": "code",
   "execution_count": 1,
   "metadata": {},
   "outputs": [],
   "source": [
    "# Import the required packages\n",
    "import pyspark\n",
    "from pyspark.sql import SparkSession\n",
    "from pyspark.sql.functions import col\n",
    "from pyspark.sql.functions import when\n",
    "from pyspark.sql.functions import sum\n"
   ]
  },
  {
   "cell_type": "code",
   "execution_count": 2,
   "metadata": {},
   "outputs": [],
   "source": [
    "# Initialize the Spark Session\n",
    "spark=SparkSession.builder.appName(\"parquetFile\").getOrCreate()"
   ]
  },
  {
   "cell_type": "code",
   "execution_count": 3,
   "metadata": {},
   "outputs": [],
   "source": [
    "# Using PySpark create the Dataframes for the parquet files\n",
    "\n",
    "aDF=spark.read.parquet(\"C:/Users/User/Downloads/data/resources/a.parquet\")\n",
    "bDF=spark.read.parquet(\"C:/Users/User/Downloads/data/resources/b.parquet\")\n",
    "cDF=spark.read.parquet(\"C:/Users/User/Downloads/data/resources/c.parquet\")\n",
    "dDF=spark.read.parquet(\"C:/Users/User/Downloads/data/resources/d.parquet\")\n",
    "eDF=spark.read.parquet(\"C:/Users/User/Downloads/data/resources/e.parquet\")\n",
    "fDF=spark.read.parquet(\"C:/Users/User/Downloads/data/resources/f.parquet\")\n",
    "gDF=spark.read.parquet(\"C:/Users/User/Downloads/data/resources/g.parquet\")"
   ]
  },
  {
   "cell_type": "code",
   "execution_count": 10,
   "metadata": {},
   "outputs": [
    {
     "name": "stdout",
     "output_type": "stream",
     "text": [
      "root\n",
      " |-- Amount: double (nullable = true)\n",
      " |-- Value: string (nullable = true)\n",
      " |-- ProductNumber: string (nullable = true)\n",
      " |-- CategoryId: long (nullable = true)\n",
      " |-- Type: long (nullable = true)\n",
      " |-- IncotermsCity: string (nullable = true)\n",
      " |-- PayDate: timestamp_ntz (nullable = true)\n",
      " |-- TransactionId: long (nullable = true)\n",
      "\n"
     ]
    }
   ],
   "source": [
    "gDF.printSchema()"
   ]
  },
  {
   "cell_type": "code",
   "execution_count": 10,
   "metadata": {},
   "outputs": [
    {
     "name": "stdout",
     "output_type": "stream",
     "text": [
      "The following is the DataFrame for the e.parquet file\n",
      "+-----------+----+\n",
      "|CustomerId |Name|\n",
      "+-----------+----+\n",
      "|          1|   A|\n",
      "|          2|   B|\n",
      "|          3|   C|\n",
      "|          4|   D|\n",
      "|          5|   F|\n",
      "|          6|   G|\n",
      "|          7|   H|\n",
      "|          8|   I|\n",
      "|          9|   J|\n",
      "|         10|   K|\n",
      "|         11|   L|\n",
      "|         12|   M|\n",
      "|         13|   N|\n",
      "|         14|   O|\n",
      "|         15|   P|\n",
      "|         16|   Q|\n",
      "|         17|   R|\n",
      "|         18|   T|\n",
      "|         19|   S|\n",
      "|         20|   V|\n",
      "+-----------+----+\n",
      "only showing top 20 rows\n",
      "\n"
     ]
    }
   ],
   "source": [
    "# print(\"The following is the DataFrame for the a.parquet file\")\n",
    "# aDF.show()\n",
    "# print(\"The following is the DataFrame for the b.parquet file\")\n",
    "# bDF.show()\n",
    "# print(\"The following is the DataFrame for the c.parquet file\")\n",
    "# cDF.show()\n",
    "# print(\"The following is the DataFrame for the d.parquet file\")\n",
    "# dDF.show()\n",
    "print(\"The following is the DataFrame for the e.parquet file\")\n",
    "eDF.show()\n",
    "# print(\"The following is the DataFrame for the f.parquet file\")\n",
    "# fDF.show()\n",
    "# print(\"The following is the DataFrame for the g.parquet file\")\n",
    "# gDF.show()"
   ]
  },
  {
   "cell_type": "code",
   "execution_count": 14,
   "metadata": {},
   "outputs": [],
   "source": [
    "# Rename the \"Name\" column of the dDF to \"ProgramName\" (assumption)\n",
    "# Rename the \"Name\" column of the cDF to \"CategoryName\" (assumption)\n",
    "\n",
    "dDF = dDF.withColumnRenamed(\"Name\",\"ProgramName\")\n",
    "cDF = cDF.withColumnRenamed(\"Name\",\"CategoryName\")\n",
    "# dDF.show()"
   ]
  },
  {
   "cell_type": "markdown",
   "metadata": {},
   "source": [
    "What is the revenue (in euros) created and received in 2021?"
   ]
  },
  {
   "cell_type": "code",
   "execution_count": null,
   "metadata": {},
   "outputs": [],
   "source": [
    "# Using the INNER JOIN function merge the DataFrames a and g on the \"TransactionID\" value\n",
    "\n",
    "merged_df = aDF.join(gDF, on=\"TransactionId\", how=\"inner\")\n",
    "merged_df.show()"
   ]
  },
  {
   "cell_type": "code",
   "execution_count": null,
   "metadata": {},
   "outputs": [],
   "source": [
    "# As we require the revenue that was created and received in 2021, the column \"PayDate\" is filtered to keep only the transactions that were paid in 2021\n",
    "\n",
    "# Filter dataframe to keep only entries from the year 2021\n",
    "filtered_df = merged_df.filter(col(\"PayDate\").contains(\"2021\"))\n",
    "\n",
    "# Show the filtered dataframe\n",
    "filtered_df.show()"
   ]
  },
  {
   "cell_type": "code",
   "execution_count": 9,
   "metadata": {},
   "outputs": [
    {
     "name": "stdout",
     "output_type": "stream",
     "text": [
      "+-------------+-------------------+------+----------+-----------------+--------+-----+--------------+----------+----+-------------+-------------------+\n",
      "|TransactionId|       CreationDate|UserId|CustomerId|SalesDocumentItem|  Amount|Value| ProductNumber|CategoryId|Type|IncotermsCity|            PayDate|\n",
      "+-------------+-------------------+------+----------+-----------------+--------+-----+--------------+----------+----+-------------+-------------------+\n",
      "|     10000145|2021-10-10 00:00:00|  6064|       309|          1000842|   807.0| EUR |6001-1330-9400|        13|   1|          SON|2021-07-12 00:00:00|\n",
      "|     10000146|2021-10-05 00:00:00|  7423|       950|          1000388|352.6986|  EUR|6829-1900-0100|         2|   1|       BOSTON|2021-10-23 00:00:00|\n",
      "|     10000147|2021-03-18 00:00:00|  8564|       418|          1000229|   939.0| EUR |6159-1700-2100|        19|   1|          SON|2021-09-15 00:00:00|\n",
      "|     10000148|2021-08-09 00:00:00|  6466|       732|          1000026|   203.0| EUR |6001-1800-8704|         2|   2|          SON|2021-07-05 00:00:00|\n",
      "|     10000149|2021-06-28 00:00:00|  3603|       922|          1000538|    50.0| EUR |6525-1500-8601|        17|   3|          SON|2021-06-01 00:00:00|\n",
      "|     10000150|2021-06-01 00:00:00|  9210|       937|          1000792|   247.0| EUR |6525-1501-5103|         9|   3|          SON|2021-06-08 00:00:00|\n",
      "|     10000151|2021-08-20 00:00:00|  5715|        75|          1000886|   341.0| EUR |6783-1500-0002|        11|   2|          SON|2021-12-01 00:00:00|\n",
      "|     10000152|2021-01-27 00:00:00|  7224|       824|          1000444|    27.0| EUR |6309-2100-1900|        18|   1|          SON|2021-06-09 00:00:00|\n",
      "|     10000153|2021-01-14 00:00:00|  4168|       478|          1000390|    61.0| EUR |6783-1500-0602|         3|   1|          SON|2021-11-14 00:00:00|\n",
      "|     10000155|2021-06-07 00:00:00|  5936|        91|          1000439|532.0082|  EUR|6906-1904-0607|        12|   3|       BOSTON|2021-09-28 00:00:00|\n",
      "|     10000156|2021-10-10 00:00:00|  1498|       172|          1000264|525.2418|  EUR|6783-1500-0002|        14|   0|       BOSTON|2021-10-24 00:00:00|\n",
      "|     10000157|2021-08-08 00:00:00|    84|       163|          1000538|428.8206|  EUR|6734-1800-2502|        20|   1|       BOSTON|2021-11-26 00:00:00|\n",
      "|     10000158|2021-07-10 00:00:00|  3496|       612|          1000737| 672.411|  EUR|6525-2100-0400|        11|   0|       BOSTON|2021-05-09 00:00:00|\n",
      "|     10000159|2021-03-31 00:00:00|  2275|       888|          1000473|  46.519|  EUR|6309-1500-1702|         2|   0|       BOSTON|2021-02-08 00:00:00|\n",
      "|     10000160|2021-10-02 00:00:00|  8335|       513|          1000428|   917.0| EUR |6309-1500-1702|        19|   3|          SON|2021-11-30 00:00:00|\n",
      "|     10000161|2021-03-24 00:00:00|  6781|        74|          1000217|   182.0| EUR |6309-1600-4601|         7|   1|          SON|2021-02-20 00:00:00|\n",
      "|     10000163|2021-07-31 00:00:00|  1170|       266|          1000284|843.2626|  EUR|6309-2100-0700|        13|   0|       BOSTON|2021-04-11 00:00:00|\n",
      "|     10000164|2021-09-03 00:00:00|  4185|       816|          1000685|477.0312|  EUR|6982-1600-3602|        17|   3|       BOSTON|2021-03-31 00:00:00|\n",
      "|     10000165|2021-02-03 00:00:00|  2753|       262|          1000779|   804.0| EUR |6309-2100-1900|        12|   2|          SON|2021-11-25 00:00:00|\n",
      "|     10000166|2021-10-04 00:00:00|  5692|        12|          1000288|   949.0| EUR |6001-1322-7201|        15|   0|          SON|2021-02-08 00:00:00|\n",
      "+-------------+-------------------+------+----------+-----------------+--------+-----+--------------+----------+----+-------------+-------------------+\n",
      "only showing top 20 rows\n",
      "\n",
      "The revenue (in euros) created and received in 2021 is 8558293.176999994\n"
     ]
    }
   ],
   "source": [
    "# First assumption, convert the transactions that are in USD to EUR based on the average transaction rate of 2021. Source: https://www.exchangerates.org.uk/USD-EUR-spot-exchange-rates-history-2021.html\n",
    "\n",
    "# Convert USD amounts to EUR using the conversion rate 0.8458\n",
    "converted_df = filtered_df.withColumn(\"Amount\", when(filtered_df[\"Value\"] == \"USD\", filtered_df[\"Amount\"] * 0.8458).otherwise(filtered_df[\"Amount\"]))\n",
    "\n",
    "# Change all instances of \"USD\" in the \"Value\" column to \"EUR\"\n",
    "converted_df = converted_df.withColumn(\"Value\", when(filtered_df[\"Value\"] == \"USD\", \"EUR\").otherwise(filtered_df[\"Value\"]))\n",
    "\n",
    "# Show the converted dataframe\n",
    "converted_df.show()\n",
    "\n",
    "# Sum the values in the \"Amount\" column\n",
    "total_revenue = converted_df.agg(sum(\"Amount\")).collect()[0][0]\n",
    "\n",
    "print(f\"The revenue (in euros) created and received in 2021 is {total_revenue}\")"
   ]
  },
  {
   "cell_type": "code",
   "execution_count": null,
   "metadata": {},
   "outputs": [],
   "source": [
    "# Second assumption where we filter the table to only keep the EUR values\n",
    "\n",
    "filtered_df_EUR = filtered_df.filter(col(\"Value\").contains(\"EUR\"))\n",
    "\n",
    "# filtered_df_EUR.show()\n",
    "\n",
    "# Sum the values in the \"Amount\" column\n",
    "total_revenue = filtered_df_EUR.agg(sum(\"Amount\")).collect()[0][0]\n",
    "\n",
    "print(f\"The revenue (in euros) created and received in 2021 is {total_revenue} \")"
   ]
  },
  {
   "cell_type": "markdown",
   "metadata": {},
   "source": [
    "Rank the programs on biggest contribution to the received revenue of 2021"
   ]
  },
  {
   "cell_type": "code",
   "execution_count": 15,
   "metadata": {},
   "outputs": [
    {
     "name": "stdout",
     "output_type": "stream",
     "text": [
      "+---------+----------+------------+-----------+\n",
      "|ProgramId|CategoryId|CategoryName|ProgramName|\n",
      "+---------+----------+------------+-----------+\n",
      "|        4|         1|         DJS|          D|\n",
      "|        4|         2|         CHS|          D|\n",
      "|        4|         3|         DIS|          D|\n",
      "|        1|         4|         IOP|          K|\n",
      "|        2|         5|          JL|          L|\n",
      "|        3|         6|         JDS|          S|\n",
      "|        1|         7|         ASD|          K|\n",
      "|        1|         8|        NULL|          K|\n",
      "|        2|         9|         WER|          L|\n",
      "|        4|        10|         RET|          D|\n",
      "|        1|        11|         VBC|          K|\n",
      "|        4|        12|         SDL|          D|\n",
      "|        2|        13|         SDK|          L|\n",
      "|        3|        14|        SDKL|          S|\n",
      "|        2|        15|         CNX|          L|\n",
      "|        4|        16|         XNS|          D|\n",
      "|        4|        17|        NULL|          D|\n",
      "|        3|        18|        NULL|          S|\n",
      "|        4|        19|         QWE|          D|\n",
      "|        5|        20|         YUC|          C|\n",
      "+---------+----------+------------+-----------+\n",
      "only showing top 20 rows\n",
      "\n"
     ]
    }
   ],
   "source": [
    "# First start by merging the two dataframes \"cDF\" and \"dDF\" based on the \"ProgramID\" column\n",
    "\n",
    "merged_c_d = cDF.join(dDF, on=\"ProgramId\", how=\"inner\")\n",
    "merged_c_d.show()"
   ]
  },
  {
   "cell_type": "code",
   "execution_count": 18,
   "metadata": {},
   "outputs": [
    {
     "name": "stdout",
     "output_type": "stream",
     "text": [
      "+----------+---------+------------+-----------+-------------+-------------------+------+----------+-----------------+--------+-----+--------------+----+-------------+-------------------+\n",
      "|CategoryId|ProgramId|CategoryName|ProgramName|TransactionId|       CreationDate|UserId|CustomerId|SalesDocumentItem|  Amount|Value| ProductNumber|Type|IncotermsCity|            PayDate|\n",
      "+----------+---------+------------+-----------+-------------+-------------------+------+----------+-----------------+--------+-----+--------------+----+-------------+-------------------+\n",
      "|        13|        2|         SDK|          L|     10000145|2021-10-10 00:00:00|  6064|       309|          1000842|   807.0| EUR |6001-1330-9400|   1|          SON|2021-07-12 00:00:00|\n",
      "|         2|        4|         CHS|          D|     10000146|2021-10-05 00:00:00|  7423|       950|          1000388|352.6986|  EUR|6829-1900-0100|   1|       BOSTON|2021-10-23 00:00:00|\n",
      "|        19|        4|         QWE|          D|     10000147|2021-03-18 00:00:00|  8564|       418|          1000229|   939.0| EUR |6159-1700-2100|   1|          SON|2021-09-15 00:00:00|\n",
      "|         2|        4|         CHS|          D|     10000148|2021-08-09 00:00:00|  6466|       732|          1000026|   203.0| EUR |6001-1800-8704|   2|          SON|2021-07-05 00:00:00|\n",
      "|        17|        4|        NULL|          D|     10000149|2021-06-28 00:00:00|  3603|       922|          1000538|    50.0| EUR |6525-1500-8601|   3|          SON|2021-06-01 00:00:00|\n",
      "|         9|        2|         WER|          L|     10000150|2021-06-01 00:00:00|  9210|       937|          1000792|   247.0| EUR |6525-1501-5103|   3|          SON|2021-06-08 00:00:00|\n",
      "|        11|        1|         VBC|          K|     10000151|2021-08-20 00:00:00|  5715|        75|          1000886|   341.0| EUR |6783-1500-0002|   2|          SON|2021-12-01 00:00:00|\n",
      "|        18|        3|        NULL|          S|     10000152|2021-01-27 00:00:00|  7224|       824|          1000444|    27.0| EUR |6309-2100-1900|   1|          SON|2021-06-09 00:00:00|\n",
      "|         3|        4|         DIS|          D|     10000153|2021-01-14 00:00:00|  4168|       478|          1000390|    61.0| EUR |6783-1500-0602|   1|          SON|2021-11-14 00:00:00|\n",
      "|        12|        4|         SDL|          D|     10000155|2021-06-07 00:00:00|  5936|        91|          1000439|532.0082|  EUR|6906-1904-0607|   3|       BOSTON|2021-09-28 00:00:00|\n",
      "|        14|        3|        SDKL|          S|     10000156|2021-10-10 00:00:00|  1498|       172|          1000264|525.2418|  EUR|6783-1500-0002|   0|       BOSTON|2021-10-24 00:00:00|\n",
      "|        20|        5|         YUC|          C|     10000157|2021-08-08 00:00:00|    84|       163|          1000538|428.8206|  EUR|6734-1800-2502|   1|       BOSTON|2021-11-26 00:00:00|\n",
      "|        11|        1|         VBC|          K|     10000158|2021-07-10 00:00:00|  3496|       612|          1000737| 672.411|  EUR|6525-2100-0400|   0|       BOSTON|2021-05-09 00:00:00|\n",
      "|         2|        4|         CHS|          D|     10000159|2021-03-31 00:00:00|  2275|       888|          1000473|  46.519|  EUR|6309-1500-1702|   0|       BOSTON|2021-02-08 00:00:00|\n",
      "|        19|        4|         QWE|          D|     10000160|2021-10-02 00:00:00|  8335|       513|          1000428|   917.0| EUR |6309-1500-1702|   3|          SON|2021-11-30 00:00:00|\n",
      "|         7|        1|         ASD|          K|     10000161|2021-03-24 00:00:00|  6781|        74|          1000217|   182.0| EUR |6309-1600-4601|   1|          SON|2021-02-20 00:00:00|\n",
      "|        13|        2|         SDK|          L|     10000163|2021-07-31 00:00:00|  1170|       266|          1000284|843.2626|  EUR|6309-2100-0700|   0|       BOSTON|2021-04-11 00:00:00|\n",
      "|        17|        4|        NULL|          D|     10000164|2021-09-03 00:00:00|  4185|       816|          1000685|477.0312|  EUR|6982-1600-3602|   3|       BOSTON|2021-03-31 00:00:00|\n",
      "|        12|        4|         SDL|          D|     10000165|2021-02-03 00:00:00|  2753|       262|          1000779|   804.0| EUR |6309-2100-1900|   2|          SON|2021-11-25 00:00:00|\n",
      "|        15|        2|         CNX|          L|     10000166|2021-10-04 00:00:00|  5692|        12|          1000288|   949.0| EUR |6001-1322-7201|   0|          SON|2021-02-08 00:00:00|\n",
      "+----------+---------+------------+-----------+-------------+-------------------+------+----------+-----------------+--------+-----+--------------+----+-------------+-------------------+\n",
      "only showing top 20 rows\n",
      "\n"
     ]
    }
   ],
   "source": [
    "# Then merge the combined cDF/dDF with the combined (filtered and converted) aDF/gDF, based on the \"CategoryID\" (for this case the merged aDF/gDF, as shown in the first assumption is used)\n",
    "\n",
    "merged_cd_ag = merged_c_d.join(converted_df, on=\"CategoryID\", how=\"inner\")\n",
    "merged_cd_ag.show()"
   ]
  },
  {
   "cell_type": "code",
   "execution_count": 20,
   "metadata": {},
   "outputs": [
    {
     "name": "stdout",
     "output_type": "stream",
     "text": [
      "+---------+-----------------+\n",
      "|ProgramId|      TotalAmount|\n",
      "+---------+-----------------+\n",
      "|        4|8495589.937799998|\n",
      "|        1|       23551.7634|\n",
      "|        2|       17950.1846|\n",
      "|        3|       14776.9546|\n",
      "|        5|        6424.3366|\n",
      "+---------+-----------------+\n",
      "\n"
     ]
    }
   ],
   "source": [
    "# Now rank the Programs based on their contribution\n",
    "\n",
    "\n",
    "# Calculate sum of the amounts per ProgramId\n",
    "sum_df = merged_cd_ag.groupBy(\"ProgramId\").agg(sum(\"Amount\").alias(\"TotalAmount\"))\n",
    "\n",
    "# Rank the ProgramIds based on the sum of amounts\n",
    "ranked_df = sum_df.orderBy(col(\"TotalAmount\").desc())\n",
    "\n",
    "# Show the resulted rank\n",
    "ranked_df.show()"
   ]
  },
  {
   "cell_type": "code",
   "execution_count": null,
   "metadata": {},
   "outputs": [],
   "source": [
    "spark.stop()"
   ]
  }
 ],
 "metadata": {
  "kernelspec": {
   "display_name": "Python 3",
   "language": "python",
   "name": "python3"
  },
  "language_info": {
   "codemirror_mode": {
    "name": "ipython",
    "version": 3
   },
   "file_extension": ".py",
   "mimetype": "text/x-python",
   "name": "python",
   "nbconvert_exporter": "python",
   "pygments_lexer": "ipython3",
   "version": "3.10.7"
  }
 },
 "nbformat": 4,
 "nbformat_minor": 2
}
